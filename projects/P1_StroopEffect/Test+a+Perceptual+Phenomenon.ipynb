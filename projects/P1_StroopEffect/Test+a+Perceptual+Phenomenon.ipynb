{
 "cells": [
  {
   "cell_type": "markdown",
   "metadata": {},
   "source": [
    "### Analyzing the Stroop Effect\n",
    "Perform the analysis in the space below. Remember to follow [the instructions](https://docs.google.com/document/d/1-OkpZLjG_kX9J6LIQ5IltsqMzVWjh36QpnP2RYpVdPU/pub?embedded=True) and review the [project rubric](https://review.udacity.com/#!/rubrics/71/view) before submitting. Once you've completed the analysis and write up, download this file as a PDF or HTML file and submit in the next section.\n",
    "\n",
    "\n",
    "(1) What is the independent variable? What is the dependent variable?"
   ]
  },
  {
   "cell_type": "markdown",
   "metadata": {},
   "source": [
    "The independent variable in the stroop experiment is the condition of the task, being the fact whether or not it is a congruent word condition.\n",
    "\n",
    "The dependent variable is the time it takes to name the ink color. We expect this to depend on the independent variabel."
   ]
  },
  {
   "cell_type": "markdown",
   "metadata": {},
   "source": [
    "(2) What is an appropriate set of hypotheses for this task? What kind of statistical test do you expect to perform? Justify your choices."
   ]
  },
  {
   "cell_type": "markdown",
   "metadata": {},
   "source": [
    "The most logical null hypothesis here would be that there is no difference between recorded times for both word conditions.\n",
    "\n",
    "The most logical alternative hypothesis would be that there is a difference between the recorded times for both conditions.\n",
    "\n",
    "In mathematical expressions this would look like:\n",
    "\n",
    "$$H_0: u_c = u_i$$\n",
    "$$H_a: u_c \\neq u_i$$\n",
    "with: \n",
    "* $H_O$ = null hypothesis\n",
    "* $H_a$ = Alternative hypothesis\n",
    "* $u_c$ = Population mean for the congruent word condition\n",
    "* $U_i$ = Population mean for the incongruent word condition\n",
    "    \n",
    "\n",
    "The most approrpriate statistical test for this hypothesis is a two-tailed dependent t-test.\n",
    "\n",
    "I'd opt for a two tailed t-test since we currently have no indication yet on the direction of the effect.\n"
   ]
  },
  {
   "cell_type": "markdown",
   "metadata": {},
   "source": [
    "(3) Report some descriptive statistics regarding this dataset. Include at least one measure of central tendency and at least one measure of variability. The name of the data file is 'stroopdata.csv'."
   ]
  },
  {
   "cell_type": "code",
   "execution_count": 7,
   "metadata": {},
   "outputs": [
    {
     "name": "stdout",
     "output_type": "stream",
     "text": [
      "   Congruent  Incongruent\n",
      "0     12.079       19.278\n",
      "1     16.791       18.741\n",
      "2      9.564       21.214\n",
      "3      8.630       15.687\n",
      "4     14.669       22.803\n",
      "       Congruent  Incongruent\n",
      "count  24.000000    24.000000\n",
      "mean   14.051125    22.015917\n",
      "std     3.559358     4.797057\n",
      "min     8.630000    15.687000\n",
      "25%    11.895250    18.716750\n",
      "50%    14.356500    21.017500\n",
      "75%    16.200750    24.051500\n",
      "max    22.328000    35.255000\n",
      "Congruent      4.30550\n",
      "Incongruent    5.33475\n",
      "dtype: float64\n"
     ]
    }
   ],
   "source": [
    "import pandas as pd\n",
    "\n",
    "data = pd.read_csv('stroopdata.csv')\n",
    "\n",
    "print(data.head())\n",
    "stats = data.describe()\n",
    "print(stats)\n",
    "print(stats.loc['75%'] - stats.loc['25%'])\n"
   ]
  },
  {
   "cell_type": "markdown",
   "metadata": {},
   "source": [
    "The table below summarizes some descriptive statitstics of the dataset.\n",
    "\n",
    "Parameter | Congruent word condition [s]| Incongruent word condition [s]\n",
    ":--- | :---: | :---:\n",
    "Mean | 14.1 | 22.0 \n",
    "Std. dev | 3.6 | 4.8\n",
    "IQR | 4.3 | 5.3\n"
   ]
  },
  {
   "cell_type": "markdown",
   "metadata": {},
   "source": [
    "(4) Provide one or two visualizations that show the distribution of the sample data. Write one or two sentences noting what you observe about the plot or plots."
   ]
  },
  {
   "cell_type": "code",
   "execution_count": 8,
   "metadata": {},
   "outputs": [
    {
     "data": {
      "image/png": "[encoded data removed]",
      "text/plain": [
       "<matplotlib.figure.Figure at 0x7ff7faf7c518>"
      ]
     },
     "metadata": {},
     "output_type": "display_data"
    },
    {
     "data": {
      "image/png": "[encoded data removed]",
      "text/plain": [
       "<matplotlib.figure.Figure at 0x7ff80e22ac88>"
      ]
     },
     "metadata": {},
     "output_type": "display_data"
    }
   ],
   "source": [
    "import matplotlib.pyplot as plt\n",
    "\n",
    "plt.figure()\n",
    "plt.subplot(211)\n",
    "plt.hist(data['Congruent'], bins=10)\n",
    "plt.xlim(8, 35)\n",
    "plt.title('Congruent word condition')\n",
    "plt.xlabel('Time [s]')\n",
    "plt.ylabel('Frequency [-]')\n",
    "plt.subplot(212)\n",
    "plt.hist(data['Incongruent'], bins=10)\n",
    "plt.xlim(8, 35)\n",
    "plt.title('Incongruent word condition')\n",
    "plt.tight_layout()\n",
    "plt.xlabel('Time [s]')\n",
    "plt.ylabel('Frequency [-]')\n",
    "plt.show()\n",
    "\n",
    "plt.figure()\n",
    "data.boxplot(['Congruent', 'Incongruent'])\n",
    "plt.title('Boxplot')\n",
    "plt.tight_layout()\n",
    "plt.ylabel('Time [s]')\n",
    "plt.xlabel('Word condition')\n",
    "plt.show()"
   ]
  },
  {
   "cell_type": "markdown",
   "metadata": {},
   "source": [
    "The plots above show that both the average as well as the variability of the incongruent words dataset is higher compared to the congruent dataset. There are two measurements which show a large deviation from the average. "
   ]
  },
  {
   "cell_type": "markdown",
   "metadata": {},
   "source": [
    "(5) Now, perform the statistical test and report the results. What is the confidence level and your critical statistic value? Do you reject the null hypothesis or fail to reject it? Come to a conclusion in terms of the experiment task. Did the results match up with your expectations?"
   ]
  },
  {
   "cell_type": "code",
   "execution_count": 13,
   "metadata": {},
   "outputs": [
    {
     "name": "stdout",
     "output_type": "stream",
     "text": [
      "Test statistic: -8.02 \n",
      "p-value: 4.10300058571e-08\n"
     ]
    }
   ],
   "source": [
    "# Perform the statistical test here\n",
    "import scipy.stats\n",
    "\n",
    "test = scipy.stats.ttest_rel(data[['Congruent']], data[['Incongruent']])\n",
    "print('Test statistic: %s ' % round(test.statistic[0], 2))\n",
    "print('p-value: %s' % test.pvalue[0])\n"
   ]
  },
  {
   "cell_type": "markdown",
   "metadata": {},
   "source": [
    "The small p-value and the large absolute value of t-statistic indicate very clearly that we can reject the null hypothesis thus accept the alternative hypothesis that the measured times for the congruent word condition are signicantly different than those for the incongruent word condition. The negative sign of the test statistic here gives a clear indication on the direction of the effect. Based on this we can also conclude that the time needed for the incongruent word condtion is signicant higher than for the congruent word condition.\n",
    "\n",
    "This is according the the expectations and the observations made in the descriptive analysis above.\n"
   ]
  }
 ],
 "metadata": {
  "kernelspec": {
   "display_name": "Python 3",
   "language": "python",
   "name": "python3"
  },
  "language_info": {
   "codemirror_mode": {
    "name": "ipython",
    "version": 3
   },
   "file_extension": ".py",
   "mimetype": "text/x-python",
   "name": "python",
   "nbconvert_exporter": "python",
   "pygments_lexer": "ipython3",
   "version": "3.6.1"
  }
 },
 "nbformat": 4,
 "nbformat_minor": 2
}

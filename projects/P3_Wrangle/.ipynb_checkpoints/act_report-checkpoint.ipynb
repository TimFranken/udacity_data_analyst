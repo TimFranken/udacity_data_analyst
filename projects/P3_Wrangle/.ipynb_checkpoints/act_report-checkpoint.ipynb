{
 "cells": [
  {
   "cell_type": "markdown",
   "metadata": {},
   "source": [
    "# WeRateDogs\n",
    "\n",
    "For this project 2 sources of data were combined together:\n",
    "\n",
    "1. WeRateDogs Twitter archive which was enhanced by extracting each tweet's retweet count and favorite as extracted from the twitter API.\n",
    "2. Tweet image predictions based on a neural network that can classify breeds of dogs.\n"
   ]
  },
  {
   "cell_type": "code",
   "execution_count": 1,
   "metadata": {
    "collapsed": false
   },
   "outputs": [],
   "source": [
    "import pandas as pd\n",
    "import matplotlib.pyplot as plt\n",
    "%matplotlib inline\n",
    "\n",
    "twitter_data = pd.read_csv('twitter_archive_master.csv')\n",
    "dog_info = pd.read_csv('dog_info.csv')\n",
    "\n",
    "full_dataset = dog_info.merge(twitter_data, how='inner', on='tweet_id')\n",
    "grouped_full = full_dataset.groupby(by='breed')['rating_numerator',\n",
    "               'favorite_count', 'retweet_count'].aggregate(['mean',\n",
    "                                                             'count'])\n",
    "grouped_full = grouped_full[grouped_full['rating_numerator']['count']>2]"
   ]
  },
  {
   "cell_type": "markdown",
   "metadata": {},
   "source": [
    "This data data can be used to extract some information on the most popular dog breeds out there. The best rated dogs in the twitter archive are:"
   ]
  },
  {
   "cell_type": "code",
   "execution_count": 2,
   "metadata": {
    "collapsed": false
   },
   "outputs": [
    {
     "name": "stdout",
     "output_type": "stream",
     "text": [
      "Pomeranian\n",
      "Saluki\n",
      "briard\n"
     ]
    }
   ],
   "source": [
    "print '\\n'.join(grouped_full.sort_values([('rating_numerator' ,'mean')],\n",
    "                                         ascending=False)[:3].index)"
   ]
  },
  {
   "cell_type": "markdown",
   "metadata": {},
   "source": [
    "The worst rated dogs are:"
   ]
  },
  {
   "cell_type": "code",
   "execution_count": 3,
   "metadata": {
    "collapsed": false
   },
   "outputs": [
    {
     "name": "stdout",
     "output_type": "stream",
     "text": [
      "soft-coated_wheaten_terrier\n",
      "Walker_hound\n",
      "Ibizan_hound\n"
     ]
    }
   ],
   "source": [
    "print '\\n'.join(grouped_full.sort_values([('rating_numerator' ,'mean')],\n",
    "                                         ascending=True)[:3].index)"
   ]
  },
  {
   "cell_type": "markdown",
   "metadata": {},
   "source": [
    "Alternatively we could look at the favorite and or retweet count to get an idea on the popularity of the dogs. The top 3 most reteweed dogs are:"
   ]
  },
  {
   "cell_type": "code",
   "execution_count": 4,
   "metadata": {
    "collapsed": false
   },
   "outputs": [
    {
     "name": "stdout",
     "output_type": "stream",
     "text": [
      "Bedlington_terrier\n",
      "Afghan_hound\n",
      "standard_poodle\n"
     ]
    }
   ],
   "source": [
    "print '\\n'.join(grouped_full.sort_values([('retweet_count' ,'mean')],\n",
    "                                         ascending=False)[:3].index)"
   ]
  },
  {
   "cell_type": "markdown",
   "metadata": {},
   "source": [
    "The top 3 most favorited dogs are:"
   ]
  },
  {
   "cell_type": "code",
   "execution_count": 5,
   "metadata": {
    "collapsed": false
   },
   "outputs": [
    {
     "name": "stdout",
     "output_type": "stream",
     "text": [
      "Saluki\n",
      "Bedlington_terrier\n",
      "French_bulldog\n"
     ]
    }
   ],
   "source": [
    "print '\\n'.join(grouped_full.sort_values([('favorite_count' ,'mean')],\n",
    "                                         ascending=False)[:3].index)"
   ]
  },
  {
   "cell_type": "markdown",
   "metadata": {},
   "source": [
    "Finally it is interesting to take a look at the most added dogs on the twitter account. The top 3 consists of:"
   ]
  },
  {
   "cell_type": "code",
   "execution_count": 6,
   "metadata": {
    "collapsed": false
   },
   "outputs": [
    {
     "name": "stdout",
     "output_type": "stream",
     "text": [
      "golden_retriever\n",
      "Labrador_retriever\n",
      "Pembroke\n"
     ]
    }
   ],
   "source": [
    "print '\\n'.join(grouped_full.sort_values([('favorite_count' ,'count')],\n",
    "                                         ascending=False)[:3].index)"
   ]
  },
  {
   "cell_type": "markdown",
   "metadata": {},
   "source": [
    "The analysis above indicates that ratings, retweets and favorites do not always seem to match. This is investiged further in the following visual assessement. Additionnally the correlation coefficients are determined.\n",
    "\n",
    "Both the visual assessement as well as the correlation analysis show a significant correlation between the ratings and favorite and retweet counts. This correlation is more obvious with the favorite count compared to the retweet count."
   ]
  },
  {
   "cell_type": "code",
   "execution_count": 7,
   "metadata": {
    "collapsed": false
   },
   "outputs": [
    {
     "data": {
      "text/plain": [
       "<matplotlib.text.Text at 0x9aebf60>"
      ]
     },
     "execution_count": 7,
     "metadata": {},
     "output_type": "execute_result"
    },
    {
     "data": {
      "image/png": "[encoded data removed]",
      "text/plain": [
       "<matplotlib.figure.Figure at 0x9ac14e0>"
      ]
     },
     "metadata": {},
     "output_type": "display_data"
    }
   ],
   "source": [
    "plt.figure(figsize=(16, 8))\n",
    "plt.scatter(x=grouped_full['rating_numerator']['mean'],\n",
    "            y=grouped_full['favorite_count']['mean'],\n",
    "            s=grouped_full['favorite_count']['count'])\n",
    "plt.scatter(x=grouped_full['rating_numerator']['mean'],\n",
    "            y=grouped_full['retweet_count']['mean'],\n",
    "            s=grouped_full['retweet_count']['count'])\n",
    "plt.legend(['favorite_count', 'retweet_count'])\n",
    "plt.grid()\n",
    "plt.xlabel('rating_numerator [-]')\n",
    "plt.ylabel('Count [-]')"
   ]
  }
 ],
 "metadata": {
  "kernelspec": {
   "display_name": "Python 2",
   "language": "python",
   "name": "python2"
  },
  "language_info": {
   "codemirror_mode": {
    "name": "ipython",
    "version": 2
   },
   "file_extension": ".py",
   "mimetype": "text/x-python",
   "name": "python",
   "nbconvert_exporter": "python",
   "pygments_lexer": "ipython2",
   "version": "2.7.13"
  }
 },
 "nbformat": 4,
 "nbformat_minor": 2
}

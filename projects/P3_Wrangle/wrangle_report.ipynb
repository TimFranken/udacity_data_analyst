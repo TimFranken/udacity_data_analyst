{
 "cells": [
  {
   "cell_type": "markdown",
   "metadata": {},
   "source": [
    "# Introduction\n",
    "This report describes wrangling efforts for the project 3: Wrangle and analyze data of the Udacity data analyst nanodegree.\n",
    "The outline of the report follows the typical steps in any data wrangling process:\n",
    "\n",
    "* Gathering data\n",
    "* Assessing data\n",
    "* Cleaning data\n",
    "\n",
    "# Gathering data\n",
    "For this project 3 sources of data were used:\n",
    "\n",
    "1. WeRateDogs Twitter archive\n",
    "2. Tweet image predictions\n",
    "3. Each tweet's retweet count and favorite\n",
    "\n",
    "The WeRateDogs archive and tweet image predictions were read into a pandas dataframe. the tweepy library was used to extract additional data from the twitter API. This resulted in 3 separate pandas dataframes.\n",
    "\n",
    "\n",
    "# Assessing data\n",
    "\n",
    "The gathered data was assessed for quality and tidiness issues using a combination of visual and programmatic techniques. This resulted in the following quality and tidiness issues. Although much more could be identified this project is limited to 8 quality issues and 2 tidiness issues.\n",
    "\n",
    "\n",
    "## Quality\n",
    "\n",
    "* None in dog stage columns and name is not recognised as null value\n",
    "* Timestamp is an object and no datetime\n",
    "* 181 retweets in the twitter archive. We only want original ratings.\n",
    "* 78 replies in the twitter archive. We only want original ratings.\n",
    "* When multiple dogs are in the picture the denominator can be a multiplication of 10 for each dog in the picture\n",
    "* Some numerators and denominators are wrong extracted (810984652412424192, 740373189193256964, 682962037429899265 & 666287406224695296)\n",
    "* 2 numerators are equal to 0\n",
    "* Image predictions are not always dogs\n",
    "\n",
    "\n",
    "## Tidiness\n",
    "\n",
    "* Dog \"stage\" columns, name and ratings are more linked to image predictions which would result in a table containing all information on the dogs\n",
    "* retweet count and favorite count should be linked to the twitter archive\n",
    "\n",
    "\n",
    "# Cleaning data\n",
    "\n",
    "The issues identified were cleaned in the next step. First the issues related to missing data were solved. Then tables were reorganised according to the rules of tidiness. Finally the remaining quality issues were solved.\n",
    "The result of this is are two separate clean and tidy datasets. The first dataset (twitter_archive_master.csv) contains all data related to the twitter post. The second dataset (dog_info.csv) contains additional data derived from the twitter post itself and related to the dogs shown in the twitter images.\n",
    "\n",
    "One issue that was not resolved is related to the dog stages. According to the rules of tidiness they should not be in separate columns. However, an analysis of the values showed no clear distinction between the different stages. Since my knowledge of dogs is limited I choose to ignore this issue for this project.\n",
    "\n",
    "As mentioned above not all possible issues in the dataset were resolved but the resulting dataset was sufficiently clean to gain some insights on the popularity of different dog breeds.\n"
   ]
  }
 ],
 "metadata": {
  "kernelspec": {
   "display_name": "Python 2",
   "language": "python",
   "name": "python2"
  },
  "language_info": {
   "codemirror_mode": {
    "name": "ipython",
    "version": 2
   },
   "file_extension": ".py",
   "mimetype": "text/x-python",
   "name": "python",
   "nbconvert_exporter": "python",
   "pygments_lexer": "ipython2",
   "version": "2.7.13"
  }
 },
 "nbformat": 4,
 "nbformat_minor": 2
}
